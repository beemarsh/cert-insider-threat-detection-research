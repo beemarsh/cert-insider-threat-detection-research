{
 "cells": [
  {
   "cell_type": "code",
   "execution_count": 5,
   "id": "2393cd96-b4cb-4c19-8c76-d5ec915d7cee",
   "metadata": {
    "editable": true,
    "slideshow": {
     "slide_type": ""
    },
    "tags": []
   },
   "outputs": [],
   "source": [
    "# The input dataset should already have a 'day' and 'is_working_hour column' defined which we already did.\n",
    "# We are also using the chunks that we generated using the email_chunk_generator file\n",
    "\n",
    "# The output dataset has six columns, 2 of which are user and day.\n",
    "# This script calculate four attributes from the email cert dataset. It generates the following attribute for each user for every single day\n",
    "# numSendDay\n",
    "# numSendNight\n",
    "# numReceivedDay\n",
    "# numReceivedNight\n",
    "\n",
    "# For this dataset calculation, I used HPC Cluster (Magnolia) from University of Southern Mississippi\n",
    "# In HPC clusters, I used Slrum Workload Manager, the script for which is also discussed somewhere in the repo\n",
    "\n",
    "import pandas as pd\n",
    "from multiprocessing import Pool\n",
    "import os"
   ]
  },
  {
   "cell_type": "code",
   "execution_count": 6,
   "id": "0f46f5a5-381e-4601-b2fa-b89bfda48af7",
   "metadata": {
    "editable": false,
    "slideshow": {
     "slide_type": ""
    },
    "tags": []
   },
   "outputs": [],
   "source": [
    "temp_folder_results = 'temp_results'  # Temporary folder to store intermediate result files\n",
    "temp_folder_chunks= 'temp_chunks'  # Folder that stores intermediate chunked files\n",
    "output_file = 'with_sent_recieved_counts.csv'"
   ]
  },
  {
   "cell_type": "code",
   "execution_count": 7,
   "id": "a5c58416-27d1-4101-8a62-0c71af7c00c7",
   "metadata": {},
   "outputs": [],
   "source": [
    "# To make sure that the folder exists\n",
    "os.makedirs(temp_folder_results, exist_ok=True)"
   ]
  },
  {
   "cell_type": "code",
   "execution_count": null,
   "id": "690b050c-d8bb-4f32-86d5-add36eafc6b8",
   "metadata": {
    "editable": true,
    "slideshow": {
     "slide_type": ""
    },
    "tags": []
   },
   "outputs": [],
   "source": [
    "# Function to calculate the number of emails sent and received during day and night for each user in a day\n",
    "def calculate_emails_counts(chunk_filename):\n",
    "    df = pd.read_csv(f'{temp_folder_chunks}/{chunk_filename}')\n",
    "\n",
    "    # Filter data for Sent activities\n",
    "    sent_data = df[df['activity'] == 'Send']\n",
    "    received_data = df[df['activity'] == 'View']\n",
    "\n",
    "    # Calculate the number of sent emails during the day and night for each user on a specific day\n",
    "    sent_data = sent_data.assign(\n",
    "        numSendDay=sent_data['is_working_hour'].astype(int),\n",
    "        numSendNight=(~sent_data['is_working_hour']).astype(int),\n",
    "    )    \n",
    "\n",
    "    # Calculate the number of received emails during the day and night for each user on a specific day\n",
    "    received_data = received_data.assign(\n",
    "        numReceivedDay=received_data['is_working_hour'].astype(int),\n",
    "        numReceivedNight=(~received_data['is_working_hour']).astype(int)\n",
    "    )\n",
    "\n",
    "    sent_counts = sent_data.groupby(['user', 'day']).agg(\n",
    "        numSendDay=('numSendDay', 'sum'),\n",
    "        numSendNight=('numSendNight', 'sum')\n",
    "    ).reset_index()\n",
    "\n",
    "    received_counts = received_data.groupby(['user', 'day']).agg(\n",
    "        numReceivedDay=('numReceivedDay', 'sum'),\n",
    "        numReceivedNight=('numReceivedNight', 'sum')\n",
    "    ).reset_index()\n",
    "\n",
    "    # Merge sent and received data\n",
    "    merged_results = sent_counts.merge(received_counts, on=['user', 'day'], how='outer')\n",
    "    merged_results.fillna(0, inplace=True)  # Replace NaN with 0\n",
    "    merged_results[['numSendDay','numSendNight','numReceivedDay','numReceivedNight']] = merged_results[['numSendDay','numSendNight','numReceivedDay','numReceivedNight']].astype(int)\n",
    "\n",
    "    temp_filename = f'{temp_folder_results}/temp_result_{chunk_filename}'\n",
    "    \n",
    "    # Because we are processing different chunks, a separate result file is generated for each chunk in temp_folder_chunks folder\n",
    "    merged_results.to_csv(temp_filename, index=False)\n",
    "    \n",
    "    return temp_filename  # Return the filename of the saved result"
   ]
  },
  {
   "cell_type": "code",
   "execution_count": null,
   "id": "a00ce6d7-71eb-423f-ac26-e76abd79b95b",
   "metadata": {},
   "outputs": [],
   "source": [
    "# First we have to get the list of chunks that we have in the chunks folder\n",
    "file_names = os.listdir(temp_folder_chunks)\n",
    "# Filter only files (not directories)\n",
    "chunk_filenames = [file for file in file_names if os.path.isfile(os.path.join(temp_folder_chunks, file))]\n",
    "\n",
    "# Calculate the number of emails sent and received during day and night for each chunk\n",
    "with Pool() as pool:\n",
    "    result_filenames = pool.map(calculate_emails_counts, chunk_filenames)\n",
    "\n",
    "# Since our results are divided into different files for each day, we have to combine them\n",
    "combined_result = pd.concat([pd.read_csv(filename) for filename in result_filenames])\n",
    "\n",
    "# Save the final result to a CSV file\n",
    "combined_result.to_csv(output_file, index=False)"
   ]
  },
  {
   "cell_type": "code",
   "execution_count": null,
   "id": "eb838e6a-2837-4802-99fb-afed792d5627",
   "metadata": {},
   "outputs": [],
   "source": [
    "# To remove the generated temp files\n",
    "for filename in result_filenames:\n",
    "    if os.path.exists(filename):  # Check if the file exists before removing\n",
    "        os.remove(filename)\n",
    "    else:\n",
    "        print(f\"File {filename} not found.\")"
   ]
  }
 ],
 "metadata": {
  "kernelspec": {
   "display_name": "Python 3 (ipykernel)",
   "language": "python",
   "name": "python3"
  },
  "language_info": {
   "codemirror_mode": {
    "name": "ipython",
    "version": 3
   },
   "file_extension": ".py",
   "mimetype": "text/x-python",
   "name": "python",
   "nbconvert_exporter": "python",
   "pygments_lexer": "ipython3",
   "version": "3.11.5"
  }
 },
 "nbformat": 4,
 "nbformat_minor": 5
}
