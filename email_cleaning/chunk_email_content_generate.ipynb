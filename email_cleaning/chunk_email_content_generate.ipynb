{
 "cells": [
  {
   "cell_type": "code",
   "execution_count": 1,
   "id": "c5d3c0df-d2cc-44a3-9047-c68cf380ca11",
   "metadata": {},
   "outputs": [],
   "source": [
    "\n",
    "# The input dataset should be the latest r6.2 Cert Insider Threat Dataset\n",
    "\n",
    "# For this dataset, I used HPC Cluster (Magnolia) from University of Southern Mississippi\n",
    "# In HPC clusters, I used Slrum Workload Manager, the script for which is also discussed somewhere in the repo\n",
    "# Because the dataset was huge, I had to resort to splitting dataset into different parts while also maintaing the integrity of the data\n",
    "\n",
    "import pandas as pd\n",
    "from multiprocessing import Pool\n",
    "import os"
   ]
  },
  {
   "cell_type": "code",
   "execution_count": null,
   "id": "de0e959a-d1f4-4e25-9389-6446c5deb614",
   "metadata": {},
   "outputs": [],
   "source": [
    "# Temporary folder to store intermediate chunked files\n",
    "temp_folder_chunks= 'temp_email_content_chunks'\n",
    "\n",
    "# Dataset\n",
    "dataset_path = 'reduced_email_dataset.csv'\n",
    "# If the folder doesn't exist, create one\n",
    "os.makedirs(temp_folder_chunks, exist_ok=True)"
   ]
  }
 ],
 "metadata": {
  "kernelspec": {
   "display_name": "Python 3 (ipykernel)",
   "language": "python",
   "name": "python3"
  },
  "language_info": {
   "codemirror_mode": {
    "name": "ipython",
    "version": 3
   },
   "file_extension": ".py",
   "mimetype": "text/x-python",
   "name": "python",
   "nbconvert_exporter": "python",
   "pygments_lexer": "ipython3",
   "version": "3.11.5"
  }
 },
 "nbformat": 4,
 "nbformat_minor": 5
}
