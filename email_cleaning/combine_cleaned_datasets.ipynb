{
 "cells": [
  {
   "cell_type": "code",
   "execution_count": 2,
   "id": "2c11139d-3607-4200-a589-7dc0a52e3a4e",
   "metadata": {},
   "outputs": [],
   "source": [
    "import pandas as pd"
   ]
  },
  {
   "cell_type": "code",
   "execution_count": 3,
   "id": "e3c20f4e-a771-447e-b110-74ab7578acc0",
   "metadata": {},
   "outputs": [],
   "source": [
    "dataset_1 = 'with_attachment_counts.csv'\n",
    "dataset_2 = 'with_distinct_internal_counts.csv'\n",
    "dataset_3 = 'with_sent_recieved_counts.csv'\n",
    "\n",
    "output_file = 'cleaned_email_dataset.csv'"
   ]
  },
  {
   "cell_type": "code",
   "execution_count": 4,
   "id": "90f099da-978e-44c2-b1b7-74ccbe19adde",
   "metadata": {},
   "outputs": [],
   "source": [
    "# Read the three datasets\n",
    "df1 = pd.read_csv(dataset_1)\n",
    "df2 = pd.read_csv(dataset_2)\n",
    "df3 = pd.read_csv(dataset_3)"
   ]
  },
  {
   "cell_type": "code",
   "execution_count": 5,
   "id": "d2098db6-189c-4fee-9296-66c4cb7115db",
   "metadata": {},
   "outputs": [],
   "source": [
    "# Merge the datasets based on 'user' and 'day' columns\n",
    "merged_df = df1.merge(df2, on=['user', 'day'], how='outer')\n",
    "merged_df = merged_df.merge(df3, on=['user', 'day'], how='outer')\n",
    "\n",
    "# Save the merged dataset to a new CSV file\n",
    "\n",
    "merged_df\n",
    "merged_df.to_csv(output_file, index=False)"
   ]
  },
  {
   "cell_type": "code",
   "execution_count": null,
   "id": "96ab790b-7b44-4fce-a4b9-31690de5094d",
   "metadata": {},
   "outputs": [],
   "source": []
  }
 ],
 "metadata": {
  "kernelspec": {
   "display_name": "Python 3 (ipykernel)",
   "language": "python",
   "name": "python3"
  },
  "language_info": {
   "codemirror_mode": {
    "name": "ipython",
    "version": 3
   },
   "file_extension": ".py",
   "mimetype": "text/x-python",
   "name": "python",
   "nbconvert_exporter": "python",
   "pygments_lexer": "ipython3",
   "version": "3.11.5"
  }
 },
 "nbformat": 4,
 "nbformat_minor": 5
}
