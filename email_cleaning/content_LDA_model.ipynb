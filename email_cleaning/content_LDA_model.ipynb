{
 "cells": [
  {
   "cell_type": "code",
   "execution_count": 13,
   "id": "24d76c01-a104-44b0-bd0c-48743bd6c972",
   "metadata": {},
   "outputs": [],
   "source": [
    "import pandas as pd\n",
    "from gensim import corpora, models\n",
    "import nltk"
   ]
  },
  {
   "cell_type": "code",
   "execution_count": 2,
   "id": "2041b19b-5bfb-4095-b5af-2a1aaa0babbd",
   "metadata": {},
   "outputs": [],
   "source": [
    "input_dataset = 'with_content_cleaned.csv'"
   ]
  },
  {
   "cell_type": "code",
   "execution_count": 3,
   "id": "6ab65eee-897f-4512-a596-90b1b8dbc5f2",
   "metadata": {},
   "outputs": [],
   "source": [
    "batch_size = 8\n",
    "num_topics = 50\n",
    "num_epochs = 10\n",
    "# device = torch.device(\"cuda\" if torch.cuda.is_available() else \"cpu\")"
   ]
  },
  {
   "cell_type": "code",
   "execution_count": 4,
   "id": "bdcc3a76-5c6f-434e-a34e-b3553f380aeb",
   "metadata": {},
   "outputs": [],
   "source": [
    "df = pd.read_csv(input_dataset, nrows = 100)"
   ]
  },
  {
   "cell_type": "code",
   "execution_count": 5,
   "id": "49215a05-07e2-4d36-ae4c-1ccbff9c7336",
   "metadata": {},
   "outputs": [],
   "source": [
    "# Access the columns\n",
    "email_ids = df[\"id\"]\n",
    "email_bodies = df[\"clean_content\"]"
   ]
  },
  {
   "cell_type": "code",
   "execution_count": 18,
   "id": "51b0c8b7-99be-4329-8076-c7056624eb50",
   "metadata": {},
   "outputs": [],
   "source": [
    "tokenized_bodies = []\n",
    "for text in email_bodies:\n",
    "    tokens = nltk.word_tokenize(text)\n",
    "    tokenized_bodies.append(tokens)"
   ]
  },
  {
   "cell_type": "code",
   "execution_count": 21,
   "id": "3ee6274b-1138-4620-adb7-f9df258725c1",
   "metadata": {},
   "outputs": [
    {
     "ename": "TypeError",
     "evalue": "object of type 'int' has no len()",
     "output_type": "error",
     "traceback": [
      "\u001b[0;31m---------------------------------------------------------------------------\u001b[0m",
      "\u001b[0;31mTypeError\u001b[0m                                 Traceback (most recent call last)",
      "Cell \u001b[0;32mIn[21], line 1\u001b[0m\n\u001b[0;32m----> 1\u001b[0m filtered_tokens \u001b[38;5;241m=\u001b[39m \u001b[43m[\u001b[49m\u001b[43m[\u001b[49m\u001b[43mtoken\u001b[49m\u001b[43m \u001b[49m\u001b[38;5;28;43;01mfor\u001b[39;49;00m\u001b[43m \u001b[49m\u001b[43mtoken\u001b[49m\u001b[43m,\u001b[49m\u001b[43m \u001b[49m\u001b[43m_\u001b[49m\u001b[43m \u001b[49m\u001b[38;5;129;43;01min\u001b[39;49;00m\u001b[43m \u001b[49m\u001b[38;5;28;43menumerate\u001b[39;49m\u001b[43m(\u001b[49m\u001b[43mdoc\u001b[49m\u001b[43m)\u001b[49m\u001b[43m \u001b[49m\u001b[38;5;28;43;01mif\u001b[39;49;00m\u001b[43m \u001b[49m\u001b[43m(\u001b[49m\u001b[38;5;28;43mlen\u001b[39;49m\u001b[43m(\u001b[49m\u001b[43mtoken\u001b[49m\u001b[43m)\u001b[49m\u001b[43m \u001b[49m\u001b[38;5;241;43m<\u001b[39;49m\u001b[38;5;241;43m=\u001b[39;49m\u001b[43m \u001b[49m\u001b[38;5;241;43m20\u001b[39;49m\u001b[43m)\u001b[49m\u001b[43m]\u001b[49m\u001b[43m \u001b[49m\u001b[38;5;28;43;01mfor\u001b[39;49;00m\u001b[43m \u001b[49m\u001b[43mdoc\u001b[49m\u001b[43m \u001b[49m\u001b[38;5;129;43;01min\u001b[39;49;00m\u001b[43m \u001b[49m\u001b[43mtokenized_bodies\u001b[49m\u001b[43m]\u001b[49m\n\u001b[1;32m      2\u001b[0m dictionary \u001b[38;5;241m=\u001b[39m corpora\u001b[38;5;241m.\u001b[39mDictionary(filtered_tokens)\n",
      "Cell \u001b[0;32mIn[21], line 1\u001b[0m, in \u001b[0;36m<listcomp>\u001b[0;34m(.0)\u001b[0m\n\u001b[0;32m----> 1\u001b[0m filtered_tokens \u001b[38;5;241m=\u001b[39m [\u001b[43m[\u001b[49m\u001b[43mtoken\u001b[49m\u001b[43m \u001b[49m\u001b[38;5;28;43;01mfor\u001b[39;49;00m\u001b[43m \u001b[49m\u001b[43mtoken\u001b[49m\u001b[43m,\u001b[49m\u001b[43m \u001b[49m\u001b[43m_\u001b[49m\u001b[43m \u001b[49m\u001b[38;5;129;43;01min\u001b[39;49;00m\u001b[43m \u001b[49m\u001b[38;5;28;43menumerate\u001b[39;49m\u001b[43m(\u001b[49m\u001b[43mdoc\u001b[49m\u001b[43m)\u001b[49m\u001b[43m \u001b[49m\u001b[38;5;28;43;01mif\u001b[39;49;00m\u001b[43m \u001b[49m\u001b[43m(\u001b[49m\u001b[38;5;28;43mlen\u001b[39;49m\u001b[43m(\u001b[49m\u001b[43mtoken\u001b[49m\u001b[43m)\u001b[49m\u001b[43m \u001b[49m\u001b[38;5;241;43m<\u001b[39;49m\u001b[38;5;241;43m=\u001b[39;49m\u001b[43m \u001b[49m\u001b[38;5;241;43m20\u001b[39;49m\u001b[43m)\u001b[49m\u001b[43m]\u001b[49m \u001b[38;5;28;01mfor\u001b[39;00m doc \u001b[38;5;129;01min\u001b[39;00m tokenized_bodies]\n\u001b[1;32m      2\u001b[0m dictionary \u001b[38;5;241m=\u001b[39m corpora\u001b[38;5;241m.\u001b[39mDictionary(filtered_tokens)\n",
      "Cell \u001b[0;32mIn[21], line 1\u001b[0m, in \u001b[0;36m<listcomp>\u001b[0;34m(.0)\u001b[0m\n\u001b[0;32m----> 1\u001b[0m filtered_tokens \u001b[38;5;241m=\u001b[39m [[token \u001b[38;5;28;01mfor\u001b[39;00m token, _ \u001b[38;5;129;01min\u001b[39;00m \u001b[38;5;28menumerate\u001b[39m(doc) \u001b[38;5;28;01mif\u001b[39;00m (\u001b[38;5;28;43mlen\u001b[39;49m\u001b[43m(\u001b[49m\u001b[43mtoken\u001b[49m\u001b[43m)\u001b[49m \u001b[38;5;241m<\u001b[39m\u001b[38;5;241m=\u001b[39m \u001b[38;5;241m20\u001b[39m)] \u001b[38;5;28;01mfor\u001b[39;00m doc \u001b[38;5;129;01min\u001b[39;00m tokenized_bodies]\n\u001b[1;32m      2\u001b[0m dictionary \u001b[38;5;241m=\u001b[39m corpora\u001b[38;5;241m.\u001b[39mDictionary(filtered_tokens)\n",
      "\u001b[0;31mTypeError\u001b[0m: object of type 'int' has no len()"
     ]
    }
   ],
   "source": [
    "filtered_tokens = [[token for token, _ in enumerate(doc) if (len(token) <= 20)] for doc in tokenized_bodies]\n",
    "dictionary = corpora.Dictionary(filtered_tokens)"
   ]
  },
  {
   "cell_type": "code",
   "execution_count": 32,
   "id": "73a6adcc-bb88-4580-95a1-f23df0c95425",
   "metadata": {},
   "outputs": [
    {
     "ename": "TypeError",
     "evalue": "only integer tensors of a single element can be converted to an index",
     "output_type": "error",
     "traceback": [
      "\u001b[0;31m---------------------------------------------------------------------------\u001b[0m",
      "\u001b[0;31mTypeError\u001b[0m                                 Traceback (most recent call last)",
      "Cell \u001b[0;32mIn[32], line 4\u001b[0m\n\u001b[1;32m      1\u001b[0m \u001b[38;5;66;03m# Create dataset and dataloader\u001b[39;00m\n\u001b[1;32m      2\u001b[0m \u001b[38;5;66;03m# dataset = EmailDataset(df)\u001b[39;00m\n\u001b[1;32m      3\u001b[0m \u001b[38;5;66;03m# Create a DataLoader for efficient batch processing\u001b[39;00m\n\u001b[0;32m----> 4\u001b[0m dataloader \u001b[38;5;241m=\u001b[39m DataLoader(TensorDataset(\u001b[43mtorch\u001b[49m\u001b[38;5;241;43m.\u001b[39;49m\u001b[43mtensor\u001b[49m\u001b[43m(\u001b[49m\u001b[43mpadded_corpus\u001b[49m\u001b[43m)\u001b[49m), batch_size\u001b[38;5;241m=\u001b[39mbatch_size)\n\u001b[1;32m      5\u001b[0m \u001b[38;5;28mprint\u001b[39m(\u001b[38;5;124m\"\u001b[39m\u001b[38;5;124mCreated DataLoader\u001b[39m\u001b[38;5;124m\"\u001b[39m)\n\u001b[1;32m      7\u001b[0m \u001b[38;5;66;03m# Define the LDA model\u001b[39;00m\n",
      "\u001b[0;31mTypeError\u001b[0m: only integer tensors of a single element can be converted to an index"
     ]
    }
   ],
   "source": [
    "# Convert email bodies to bag-of-words format\n",
    "corpus = [dictionary.doc2bow(text) for text in email_bodies]"
   ]
  },
  {
   "cell_type": "code",
   "execution_count": null,
   "id": "16b5670f-b0cc-4503-bcd1-a171fde049b0",
   "metadata": {},
   "outputs": [],
   "source": [
    "# Train LDA model with 50 topics\n",
    "lda_model = models.LdaModel(corpus, id2word=dictionary, num_topics=50)\n",
    "# Save the Gensim model\n",
    "lda_model.save(\"lda_model.lda\")\n",
    "print(\"Model trained and saved successfully!\")"
   ]
  },
  {
   "cell_type": "code",
   "execution_count": null,
   "id": "38960277-76b7-446c-a3b6-d90122d595a3",
   "metadata": {},
   "outputs": [],
   "source": [
    "# Get topic distribution for each email\n",
    "topic_distributions = [lda_model[bow] for bow in corpus]\n",
    "\n",
    "with open(\"topic_distributions.pkl\", \"wb\") as f:\n",
    "    pickle.dump(topic_distributions, f)"
   ]
  },
  {
   "cell_type": "code",
   "execution_count": null,
   "id": "83e8fe68-5e19-48a6-8d74-48f8cd4834a4",
   "metadata": {},
   "outputs": [],
   "source": []
  }
 ],
 "metadata": {
  "kernelspec": {
   "display_name": "Python 3 (ipykernel)",
   "language": "python",
   "name": "python3"
  },
  "language_info": {
   "codemirror_mode": {
    "name": "ipython",
    "version": 3
   },
   "file_extension": ".py",
   "mimetype": "text/x-python",
   "name": "python",
   "nbconvert_exporter": "python",
   "pygments_lexer": "ipython3",
   "version": "3.11.5"
  }
 },
 "nbformat": 4,
 "nbformat_minor": 5
}
