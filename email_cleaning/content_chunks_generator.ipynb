{
 "cells": [
  {
   "cell_type": "code",
   "execution_count": 2,
   "id": "c5d3c0df-d2cc-44a3-9047-c68cf380ca11",
   "metadata": {},
   "outputs": [],
   "source": [
    "\n",
    "# The input dataset should be the latest r6.2 Cert Insider Threat Dataset\n",
    "\n",
    "# For this dataset, I used HPC Cluster (Magnolia) from University of Southern Mississippi\n",
    "# In HPC clusters, I used Slrum Workload Manager, the script for which is also discussed somewhere in the repo\n",
    "# Because the dataset was huge, I had to resort to splitting dataset into different parts while also maintaing the integrity of the data\n",
    "\n",
    "import pandas as pd\n",
    "from multiprocessing import Pool\n",
    "import os"
   ]
  },
  {
   "cell_type": "code",
   "execution_count": 3,
   "id": "de0e959a-d1f4-4e25-9389-6446c5deb614",
   "metadata": {},
   "outputs": [],
   "source": [
    "# Temporary folder to store intermediate chunked files\n",
    "temp_folder_chunks= 'temp_content_chunks'\n",
    "\n",
    "# Dataset\n",
    "dataset_path = 'reduced_content_dataset.csv'\n",
    "# If the folder doesn't exist, create one\n",
    "os.makedirs(temp_folder_chunks, exist_ok=True)"
   ]
  },
  {
   "cell_type": "code",
   "execution_count": null,
   "id": "c000631c-cec0-4851-b394-39b0df5b4b6a",
   "metadata": {},
   "outputs": [],
   "source": [
    "# Read the dataset\n",
    "df = pd.read_csv(dataset_path)\n",
    "\n",
    "# Group data by day\n",
    "grouped_data = df.groupby('day')\n",
    "\n",
    "# Write grouped chunks to temporary files\n",
    "# Splitting the dataset and saving each files to separately calculate to avoid memory overload\n",
    "# I didnot do parallel processing in this code\n",
    "\n",
    "chunk_filenames = []\n",
    "for name, group in grouped_data:\n",
    "    temp_chunk_filename = f'temp_content_chunk_{name}.csv'\n",
    "    group.to_csv(f'{temp_folder_chunks}/{temp_chunk_filename}', index=False)\n",
    "    chunk_filenames.append(temp_chunk_filename)"
   ]
  },
  {
   "cell_type": "code",
   "execution_count": null,
   "id": "dd2b96e2-f8dd-4535-b82b-59e21b08ed71",
   "metadata": {},
   "outputs": [],
   "source": [
    "# Save the names of the files so that you can access them later\n",
    "with open('slurm/content_chunk_files.log', 'w') as file:\n",
    "    for name in chunk_filenames:\n",
    "        file.write(name + '\\n')\n",
    "\n",
    "# Or you can directly access the file names from the chunks directory\n",
    "# file_names = os.listdir(temp_folder_chunks)\n",
    "# chunk_filenames = [file for file in file_names if os.path.isfile(os.path.join(temp_folder_chunks, file))]"
   ]
  }
 ],
 "metadata": {
  "kernelspec": {
   "display_name": "Python 3 (ipykernel)",
   "language": "python",
   "name": "python3"
  },
  "language_info": {
   "codemirror_mode": {
    "name": "ipython",
    "version": 3
   },
   "file_extension": ".py",
   "mimetype": "text/x-python",
   "name": "python",
   "nbconvert_exporter": "python",
   "pygments_lexer": "ipython3",
   "version": "3.11.5"
  }
 },
 "nbformat": 4,
 "nbformat_minor": 5
}
