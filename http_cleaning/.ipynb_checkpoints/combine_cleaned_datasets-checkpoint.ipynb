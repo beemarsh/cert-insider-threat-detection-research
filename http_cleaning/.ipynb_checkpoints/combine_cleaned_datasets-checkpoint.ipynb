{
 "cells": [
  {
   "cell_type": "code",
   "execution_count": null,
   "id": "77afa673-6d35-4fcc-a720-53942af17934",
   "metadata": {
    "editable": true,
    "slideshow": {
     "slide_type": ""
    },
    "tags": []
   },
   "outputs": [],
   "source": [
    "import pandas as pd"
   ]
  },
  {
   "cell_type": "code",
   "execution_count": null,
   "id": "a870fc0b-ac8e-40bd-a881-f9e7a43921d2",
   "metadata": {
    "editable": true,
    "slideshow": {
     "slide_type": ""
    },
    "tags": []
   },
   "outputs": [],
   "source": [
    "dataset_1 = 'with_activity_counts.csv'\n",
    "dataset_2 = 'with_url_counts.csv'\n",
    "\n",
    "output_file = 'cleaned_http_dataset.csv'"
   ]
  },
  {
   "cell_type": "code",
   "execution_count": null,
   "id": "aceee523-caf1-4e07-a237-6c7ce25cf56f",
   "metadata": {
    "editable": true,
    "slideshow": {
     "slide_type": ""
    },
    "tags": []
   },
   "outputs": [],
   "source": [
    "# Read the two datasets\n",
    "df1 = pd.read_csv(dataset_1)\n",
    "df2 = pd.read_csv(dataset_2)"
   ]
  },
  {
   "cell_type": "code",
   "execution_count": null,
   "id": "e5619c5a-c210-4fe3-b6b4-11fb028e9523",
   "metadata": {
    "editable": true,
    "slideshow": {
     "slide_type": ""
    },
    "tags": []
   },
   "outputs": [],
   "source": [
    "# Merge the datasets based on 'user' and 'day' columns\n",
    "merged_df = df1.merge(df2, on=['user', 'day'], how='outer')\n",
    "\n",
    "# Save the merged dataset to a new CSV file\n",
    "merged_df.to_csv(output_file, index=False)"
   ]
  }
 ],
 "metadata": {
  "kernelspec": {
   "display_name": "Python 3 (ipykernel)",
   "language": "python",
   "name": "python3"
  },
  "language_info": {
   "codemirror_mode": {
    "name": "ipython",
    "version": 3
   },
   "file_extension": ".py",
   "mimetype": "text/x-python",
   "name": "python",
   "nbconvert_exporter": "python",
   "pygments_lexer": "ipython3",
   "version": "3.11.5"
  }
 },
 "nbformat": 4,
 "nbformat_minor": 5
}
