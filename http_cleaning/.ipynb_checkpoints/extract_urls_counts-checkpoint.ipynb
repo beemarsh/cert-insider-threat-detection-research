{
 "cells": [
  {
   "cell_type": "code",
   "execution_count": 1,
   "id": "47a3b7ed-8dfb-48db-8841-8d4b0e66d72a",
   "metadata": {},
   "outputs": [],
   "source": [
    "# The input dataset should already have a 'day' and 'is_working_hour column' defined which we already did.\n",
    "# We are also using the chunks that we generated using the email_chunk_generator file\n",
    "\n",
    "# The output dataset has four columns, 2 of which are user and day.\n",
    "# This script calculate four attributes from the email cert dataset. It generates the following attribute for each user for every single day\n",
    "# numURLAccessedDay\n",
    "# numURLAccessedNight\n",
    "\n",
    "# For this dataset calculation, I used HPC Cluster (Magnolia) from University of Southern Mississippi\n",
    "# In HPC clusters, I used Slrum Workload Manager, the script for which is also discussed somewhere in the repo\n",
    "\n",
    "import pandas as pd\n",
    "from multiprocessing import Pool\n",
    "import os"
   ]
  },
  {
   "cell_type": "code",
   "execution_count": 2,
   "id": "3aba322b-6905-4f45-8dbf-749378aca94c",
   "metadata": {},
   "outputs": [],
   "source": [
    "temp_folder_results = 'temp_results'  # Temporary folder to store intermediate result files\n",
    "temp_folder_chunks= 'temp_chunks'  # Folder that stores intermediate chunked files\n",
    "output_file = 'with_url_counts.csv'"
   ]
  },
  {
   "cell_type": "code",
   "execution_count": 3,
   "id": "92f24935-2553-44e9-ac0c-8304c4a54089",
   "metadata": {
    "editable": true,
    "slideshow": {
     "slide_type": ""
    },
    "tags": []
   },
   "outputs": [],
   "source": [
    "# To make sure that the folder exists\n",
    "os.makedirs(temp_folder_results, exist_ok=True)"
   ]
  },
  {
   "cell_type": "code",
   "execution_count": 8,
   "id": "8b7fd91b-29f0-48f1-a9c5-269aabf18027",
   "metadata": {
    "editable": true,
    "slideshow": {
     "slide_type": ""
    },
    "tags": []
   },
   "outputs": [],
   "source": [
    "# Function to calculate the number of emails sent and received during day and night for each user in a day\n",
    "def calculate_activity_counts(chunk_filename):\n",
    "    df = pd.read_csv(f'{temp_folder_chunks}/{chunk_filename}')\n",
    "\n",
    "    df['is_working_hour'] = df['is_working_hour'].astype(bool)\n",
    "\n",
    "    day_unique_urls = df[df['is_working_hour']].groupby(['user', 'day'])['url'].nunique().reset_index(name='numURLAccessedDay')\n",
    "    night_unique_urls = df[~df['is_working_hour']].groupby(['user', 'day'])['url'].nunique().reset_index(name='numURLAccessedNight')\n",
    "\n",
    "    merged_data = day_unique_urls.merge(night_unique_urls, on=['user', 'day'], how='outer')\n",
    "    merged_data.fillna(0, inplace=True)  # Replace NaN with 0\n",
    "    merged_data[['numURLAccessedDay','numURLAccessedNight']] = merged_data[['numURLAccessedDay','numURLAccessedNight']].astype(int)\n",
    "    \n",
    "    temp_filename = f'{temp_folder_results}/temp_result_{chunk_filename}'\n",
    "    \n",
    "    # # Because we are processing different chunks, a separate result file is generated for each chunk in temp_folder_chunks folder\n",
    "    merged_data.to_csv(temp_filename, index=False)\n",
    "    \n",
    "    return temp_filename  # Return the filename of the saved result\n"
   ]
  },
  {
   "cell_type": "code",
   "execution_count": 9,
   "id": "debe8819-b22a-4616-940e-323006a1c9c2",
   "metadata": {},
   "outputs": [
    {
     "data": {
      "text/html": [
       "<div>\n",
       "<style scoped>\n",
       "    .dataframe tbody tr th:only-of-type {\n",
       "        vertical-align: middle;\n",
       "    }\n",
       "\n",
       "    .dataframe tbody tr th {\n",
       "        vertical-align: top;\n",
       "    }\n",
       "\n",
       "    .dataframe thead th {\n",
       "        text-align: right;\n",
       "    }\n",
       "</style>\n",
       "<table border=\"1\" class=\"dataframe\">\n",
       "  <thead>\n",
       "    <tr style=\"text-align: right;\">\n",
       "      <th></th>\n",
       "      <th>numURLAccessedDay</th>\n",
       "      <th>user</th>\n",
       "      <th>day</th>\n",
       "      <th>numURLAccessedNight</th>\n",
       "    </tr>\n",
       "  </thead>\n",
       "  <tbody>\n",
       "    <tr>\n",
       "      <th>0</th>\n",
       "      <td>0</td>\n",
       "      <td>AAS3428</td>\n",
       "      <td>2010-01-09</td>\n",
       "      <td>48</td>\n",
       "    </tr>\n",
       "    <tr>\n",
       "      <th>1</th>\n",
       "      <td>0</td>\n",
       "      <td>ABK3081</td>\n",
       "      <td>2010-01-09</td>\n",
       "      <td>32</td>\n",
       "    </tr>\n",
       "    <tr>\n",
       "      <th>2</th>\n",
       "      <td>0</td>\n",
       "      <td>ABM3641</td>\n",
       "      <td>2010-01-09</td>\n",
       "      <td>10</td>\n",
       "    </tr>\n",
       "    <tr>\n",
       "      <th>3</th>\n",
       "      <td>0</td>\n",
       "      <td>ABP2917</td>\n",
       "      <td>2010-01-09</td>\n",
       "      <td>16</td>\n",
       "    </tr>\n",
       "    <tr>\n",
       "      <th>4</th>\n",
       "      <td>0</td>\n",
       "      <td>ACH1910</td>\n",
       "      <td>2010-01-09</td>\n",
       "      <td>32</td>\n",
       "    </tr>\n",
       "    <tr>\n",
       "      <th>...</th>\n",
       "      <td>...</td>\n",
       "      <td>...</td>\n",
       "      <td>...</td>\n",
       "      <td>...</td>\n",
       "    </tr>\n",
       "    <tr>\n",
       "      <th>3995</th>\n",
       "      <td>14</td>\n",
       "      <td>ZVS1637</td>\n",
       "      <td>2010-01-12</td>\n",
       "      <td>4</td>\n",
       "    </tr>\n",
       "    <tr>\n",
       "      <th>3996</th>\n",
       "      <td>6</td>\n",
       "      <td>ZWS3625</td>\n",
       "      <td>2010-01-12</td>\n",
       "      <td>2</td>\n",
       "    </tr>\n",
       "    <tr>\n",
       "      <th>3997</th>\n",
       "      <td>7</td>\n",
       "      <td>ZXM3086</td>\n",
       "      <td>2010-01-12</td>\n",
       "      <td>8</td>\n",
       "    </tr>\n",
       "    <tr>\n",
       "      <th>3998</th>\n",
       "      <td>16</td>\n",
       "      <td>ZZO2997</td>\n",
       "      <td>2010-01-12</td>\n",
       "      <td>12</td>\n",
       "    </tr>\n",
       "    <tr>\n",
       "      <th>3999</th>\n",
       "      <td>0</td>\n",
       "      <td>SMN1103</td>\n",
       "      <td>2010-01-12</td>\n",
       "      <td>9</td>\n",
       "    </tr>\n",
       "  </tbody>\n",
       "</table>\n",
       "<p>4208 rows × 4 columns</p>\n",
       "</div>"
      ],
      "text/plain": [
       "      numURLAccessedDay     user         day  numURLAccessedNight\n",
       "0                     0  AAS3428  2010-01-09                   48\n",
       "1                     0  ABK3081  2010-01-09                   32\n",
       "2                     0  ABM3641  2010-01-09                   10\n",
       "3                     0  ABP2917  2010-01-09                   16\n",
       "4                     0  ACH1910  2010-01-09                   32\n",
       "...                 ...      ...         ...                  ...\n",
       "3995                 14  ZVS1637  2010-01-12                    4\n",
       "3996                  6  ZWS3625  2010-01-12                    2\n",
       "3997                  7  ZXM3086  2010-01-12                    8\n",
       "3998                 16  ZZO2997  2010-01-12                   12\n",
       "3999                  0  SMN1103  2010-01-12                    9\n",
       "\n",
       "[4208 rows x 4 columns]"
      ]
     },
     "execution_count": 9,
     "metadata": {},
     "output_type": "execute_result"
    }
   ],
   "source": [
    "# First we have to get the list of chunks that we have in the chunks folder\n",
    "file_names = os.listdir(temp_folder_chunks)\n",
    "# Filter only files (not directories)\n",
    "chunk_filenames = [file for file in file_names if os.path.isfile(os.path.join(temp_folder_chunks, file))]\n",
    "\n",
    "# chunk_filenames = ['temp_chunk_2010-01-09.csv','temp_chunk_2010-01-12.csv']\n",
    "\n",
    "# Calculate the number of emails sent and received during day and night for each chunk\n",
    "with Pool() as pool:\n",
    "    result_filenames = pool.map(calculate_activity_counts, chunk_filenames)\n",
    "\n",
    "# Since our results are divided into different files for each day, we have to combine them\n",
    "combined_result = pd.concat([pd.read_csv(filename) for filename in result_filenames])\n",
    "\n",
    "# Save the final result to a CSV file\n",
    "combined_result.to_csv(output_file, index=False)"
   ]
  },
  {
   "cell_type": "code",
   "execution_count": null,
   "id": "1adfdd9e-d09a-4833-a68c-9eb4ebf70431",
   "metadata": {
    "editable": true,
    "slideshow": {
     "slide_type": ""
    },
    "tags": []
   },
   "outputs": [],
   "source": [
    "# To remove the generated temp files\n",
    "for filename in result_filenames:\n",
    "    if os.path.exists(filename):  # Check if the file exists before removing\n",
    "        os.remove(filename)\n",
    "    else:\n",
    "        print(f\"File {filename} not found.\")"
   ]
  }
 ],
 "metadata": {
  "kernelspec": {
   "display_name": "Python 3 (ipykernel)",
   "language": "python",
   "name": "python3"
  },
  "language_info": {
   "codemirror_mode": {
    "name": "ipython",
    "version": 3
   },
   "file_extension": ".py",
   "mimetype": "text/x-python",
   "name": "python",
   "nbconvert_exporter": "python",
   "pygments_lexer": "ipython3",
   "version": "3.11.5"
  }
 },
 "nbformat": 4,
 "nbformat_minor": 5
}
